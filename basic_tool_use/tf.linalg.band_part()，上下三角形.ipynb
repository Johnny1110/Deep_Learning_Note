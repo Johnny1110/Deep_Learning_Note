{
 "cells": [
  {
   "cell_type": "code",
   "execution_count": 1,
   "metadata": {},
   "outputs": [],
   "source": [
    "#!pip install tensorflow-gpu==2.0.0"
   ]
  },
  {
   "cell_type": "code",
   "execution_count": 2,
   "metadata": {},
   "outputs": [],
   "source": [
    "import tensorflow as tf"
   ]
  },
  {
   "cell_type": "code",
   "execution_count": 3,
   "metadata": {},
   "outputs": [],
   "source": [
    "#tf.__version__"
   ]
  },
  {
   "cell_type": "code",
   "execution_count": 4,
   "metadata": {},
   "outputs": [],
   "source": [
    "# 這理介紹一下   tf.linalg.band_part()  使用方法。\n",
    "\n",
    "# tf.linalg.band_part() 主要功能以對角線為中心，取它的副對角線部分，其他部分用0填充，甚麼意思呢?\n",
    "# 簡單話來說，就是把一個矩陣右上三角變 0 或左下三角變 0 "
   ]
  },
  {
   "cell_type": "code",
   "execution_count": 5,
   "metadata": {},
   "outputs": [
    {
     "data": {
      "text/plain": [
       "'tf.linalg.band_part  \\n  Args:\\n    input: 輸入的陣列\\n    num_lower: 下三角矩陣保留的副對角線數量，從主對角線開始計算，相當於下三角的帶寬。取值爲負數時，則全部保留，矩陣不變。\\n    num_upper: 上三角矩陣保留的副對角線數量，從主對角線開始計算，相當於上三角的帶寬。取值爲負數時，則全部保留，矩陣不變。\\n    name=None: 不重要\\n\\n  Returns:\\n    matrix\\n'"
      ]
     },
     "execution_count": 5,
     "metadata": {},
     "output_type": "execute_result"
    }
   ],
   "source": [
    "# 先看一下 API\n",
    "\n",
    "\"\"\"tf.linalg.band_part  \n",
    "  Args:\n",
    "    input: 輸入的陣列\n",
    "    num_lower: 下三角矩陣保留的副對角線數量，從主對角線開始計算，相當於下三角的帶寬。取值爲負數時，則全部保留，矩陣不變。\n",
    "    num_upper: 上三角矩陣保留的副對角線數量，從主對角線開始計算，相當於上三角的帶寬。取值爲負數時，則全部保留，矩陣不變。\n",
    "    name=None: 不重要\n",
    "\n",
    "  Returns:\n",
    "    matrix\n",
    "\"\"\""
   ]
  },
  {
   "cell_type": "code",
   "execution_count": 6,
   "metadata": {},
   "outputs": [
    {
     "name": "stdout",
     "output_type": "stream",
     "text": [
      "matrix_a =  tf.Tensor(\n",
      "[[1 1 1 1]\n",
      " [1 1 1 1]\n",
      " [1 1 1 1]\n",
      " [1 1 1 1]], shape=(4, 4), dtype=int32)\n",
      "matrix_b =  tf.Tensor(\n",
      "[[1 0 0 0]\n",
      " [0 1 0 0]\n",
      " [0 0 1 0]\n",
      " [0 0 0 1]], shape=(4, 4), dtype=int32)\n",
      "matrix_c =  tf.Tensor(\n",
      "[[1 0 0 0]\n",
      " [1 1 0 0]\n",
      " [0 1 1 0]\n",
      " [0 0 1 1]], shape=(4, 4), dtype=int32)\n",
      "matrix_d =  tf.Tensor(\n",
      "[[1 0 0 0]\n",
      " [1 1 0 0]\n",
      " [1 1 1 0]\n",
      " [0 1 1 1]], shape=(4, 4), dtype=int32)\n",
      "matrix_e =  tf.Tensor(\n",
      "[[1 0 0 0]\n",
      " [1 1 0 0]\n",
      " [1 1 1 0]\n",
      " [1 1 1 1]], shape=(4, 4), dtype=int32)\n"
     ]
    }
   ],
   "source": [
    "# 或許看了 API 之後還是不懂，那直接看實作:\n",
    "\n",
    "matrix_a = tf.ones([4, 4], tf.int32)\n",
    "print(\"matrix_a = \", matrix_a)\n",
    "\n",
    "matrix_b = tf.linalg.band_part(matrix_a, 0, 0)\n",
    "print(\"matrix_b = \", matrix_b)\n",
    "\n",
    "matrix_c = tf.linalg.band_part(matrix_a, 1, 0)\n",
    "print(\"matrix_c = \", matrix_c)\n",
    "\n",
    "matrix_d = tf.linalg.band_part(matrix_a, 2, 0)\n",
    "print(\"matrix_d = \", matrix_d)\n",
    "\n",
    "matrix_e = tf.linalg.band_part(matrix_a, 3, 0)\n",
    "print(\"matrix_e = \", matrix_e)"
   ]
  },
  {
   "cell_type": "code",
   "execution_count": 7,
   "metadata": {},
   "outputs": [
    {
     "name": "stdout",
     "output_type": "stream",
     "text": [
      "matrix_f =  tf.Tensor(\n",
      "[[1 0 0 0]\n",
      " [1 1 0 0]\n",
      " [1 1 1 0]\n",
      " [1 1 1 1]], shape=(4, 4), dtype=int32)\n"
     ]
    }
   ],
   "source": [
    "# 這樣一看是不是馬上明朗很多了?接下來試試看 num_lower 參數調 -1\n",
    "\n",
    "matrix_f = tf.linalg.band_part(matrix_a, -1, 0)\n",
    "print(\"matrix_f = \", matrix_f)"
   ]
  },
  {
   "cell_type": "code",
   "execution_count": 8,
   "metadata": {},
   "outputs": [
    {
     "name": "stdout",
     "output_type": "stream",
     "text": [
      "matrix_g =  tf.Tensor(\n",
      "[[1 1 1 1]\n",
      " [0 1 1 1]\n",
      " [0 0 1 1]\n",
      " [0 0 0 1]], shape=(4, 4), dtype=int32)\n"
     ]
    }
   ],
   "source": [
    "# 可以看到，我們把 num_lower 調成 -1 之後就等於下方三角全部保留，如果想保留上方三角呢?\n",
    "\n",
    "matrix_g = tf.linalg.band_part(matrix_a, 0, -1)\n",
    "print(\"matrix_g = \", matrix_g)"
   ]
  }
 ],
 "metadata": {
  "kernelspec": {
   "display_name": "Python 3",
   "language": "python",
   "name": "python3"
  },
  "language_info": {
   "codemirror_mode": {
    "name": "ipython",
    "version": 3
   },
   "file_extension": ".py",
   "mimetype": "text/x-python",
   "name": "python",
   "nbconvert_exporter": "python",
   "pygments_lexer": "ipython3",
   "version": "3.7.7"
  }
 },
 "nbformat": 4,
 "nbformat_minor": 4
}
