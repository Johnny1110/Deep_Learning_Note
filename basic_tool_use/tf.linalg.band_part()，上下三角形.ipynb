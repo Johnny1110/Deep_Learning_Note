{
 "cells": [
  {
   "cell_type": "code",
   "execution_count": 1,
   "metadata": {},
   "outputs": [
    {
     "name": "stdout",
     "output_type": "stream",
     "text": [
      "Requirement already satisfied: tensorflow-gpu==2.0.0 in d:\\deep_learning_note\\venv\\lib\\site-packages (2.0.0)\n",
      "Requirement already satisfied: protobuf>=3.6.1 in d:\\deep_learning_note\\venv\\lib\\site-packages (from tensorflow-gpu==2.0.0) (3.13.0)\n",
      "Requirement already satisfied: tensorboard<2.1.0,>=2.0.0 in d:\\deep_learning_note\\venv\\lib\\site-packages (from tensorflow-gpu==2.0.0) (2.0.2)\n",
      "Requirement already satisfied: wheel>=0.26 in d:\\deep_learning_note\\venv\\lib\\site-packages (from tensorflow-gpu==2.0.0) (0.35.1)\n",
      "Requirement already satisfied: keras-preprocessing>=1.0.5 in d:\\deep_learning_note\\venv\\lib\\site-packages (from tensorflow-gpu==2.0.0) (1.1.2)\n",
      "Requirement already satisfied: google-pasta>=0.1.6 in d:\\deep_learning_note\\venv\\lib\\site-packages (from tensorflow-gpu==2.0.0) (0.2.0)\n",
      "Requirement already satisfied: keras-applications>=1.0.8 in d:\\deep_learning_note\\venv\\lib\\site-packages (from tensorflow-gpu==2.0.0) (1.0.8)\n",
      "Requirement already satisfied: termcolor>=1.1.0 in d:\\deep_learning_note\\venv\\lib\\site-packages (from tensorflow-gpu==2.0.0) (1.1.0)\n",
      "Requirement already satisfied: absl-py>=0.7.0 in d:\\deep_learning_note\\venv\\lib\\site-packages (from tensorflow-gpu==2.0.0) (0.9.0)\n",
      "Requirement already satisfied: numpy<2.0,>=1.16.0 in d:\\deep_learning_note\\venv\\lib\\site-packages (from tensorflow-gpu==2.0.0) (1.19.1)\n",
      "Requirement already satisfied: grpcio>=1.8.6 in d:\\deep_learning_note\\venv\\lib\\site-packages (from tensorflow-gpu==2.0.0) (1.31.0)\n",
      "Requirement already satisfied: six>=1.10.0 in d:\\deep_learning_note\\venv\\lib\\site-packages (from tensorflow-gpu==2.0.0) (1.15.0)\n",
      "Requirement already satisfied: gast==0.2.2 in d:\\deep_learning_note\\venv\\lib\\site-packages (from tensorflow-gpu==2.0.0) (0.2.2)\n",
      "Requirement already satisfied: opt-einsum>=2.3.2 in d:\\deep_learning_note\\venv\\lib\\site-packages (from tensorflow-gpu==2.0.0) (3.3.0)\n",
      "Requirement already satisfied: wrapt>=1.11.1 in d:\\deep_learning_note\\venv\\lib\\site-packages (from tensorflow-gpu==2.0.0) (1.12.1)\n",
      "Requirement already satisfied: tensorflow-estimator<2.1.0,>=2.0.0 in d:\\deep_learning_note\\venv\\lib\\site-packages (from tensorflow-gpu==2.0.0) (2.0.1)\n",
      "Requirement already satisfied: astor>=0.6.0 in d:\\deep_learning_note\\venv\\lib\\site-packages (from tensorflow-gpu==2.0.0) (0.8.1)\n",
      "Requirement already satisfied: setuptools in d:\\deep_learning_note\\venv\\lib\\site-packages (from protobuf>=3.6.1->tensorflow-gpu==2.0.0) (49.6.0)\n",
      "Requirement already satisfied: werkzeug>=0.11.15 in d:\\deep_learning_note\\venv\\lib\\site-packages (from tensorboard<2.1.0,>=2.0.0->tensorflow-gpu==2.0.0) (1.0.1)\n",
      "Requirement already satisfied: google-auth<2,>=1.6.3 in d:\\deep_learning_note\\venv\\lib\\site-packages (from tensorboard<2.1.0,>=2.0.0->tensorflow-gpu==2.0.0) (1.20.1)\n",
      "Requirement already satisfied: markdown>=2.6.8 in d:\\deep_learning_note\\venv\\lib\\site-packages (from tensorboard<2.1.0,>=2.0.0->tensorflow-gpu==2.0.0) (3.2.2)\n",
      "Requirement already satisfied: requests<3,>=2.21.0 in d:\\deep_learning_note\\venv\\lib\\site-packages (from tensorboard<2.1.0,>=2.0.0->tensorflow-gpu==2.0.0) (2.24.0)\n",
      "Requirement already satisfied: google-auth-oauthlib<0.5,>=0.4.1 in d:\\deep_learning_note\\venv\\lib\\site-packages (from tensorboard<2.1.0,>=2.0.0->tensorflow-gpu==2.0.0) (0.4.1)\n",
      "Requirement already satisfied: h5py in d:\\deep_learning_note\\venv\\lib\\site-packages (from keras-applications>=1.0.8->tensorflow-gpu==2.0.0) (2.10.0)\n",
      "Requirement already satisfied: cachetools<5.0,>=2.0.0 in d:\\deep_learning_note\\venv\\lib\\site-packages (from google-auth<2,>=1.6.3->tensorboard<2.1.0,>=2.0.0->tensorflow-gpu==2.0.0) (4.1.1)\n",
      "Requirement already satisfied: pyasn1-modules>=0.2.1 in d:\\deep_learning_note\\venv\\lib\\site-packages (from google-auth<2,>=1.6.3->tensorboard<2.1.0,>=2.0.0->tensorflow-gpu==2.0.0) (0.2.8)\n",
      "Requirement already satisfied: rsa<5,>=3.1.4; python_version >= \"3.5\" in d:\\deep_learning_note\\venv\\lib\\site-packages (from google-auth<2,>=1.6.3->tensorboard<2.1.0,>=2.0.0->tensorflow-gpu==2.0.0) (4.6)\n",
      "Requirement already satisfied: importlib-metadata; python_version < \"3.8\" in d:\\deep_learning_note\\venv\\lib\\site-packages (from markdown>=2.6.8->tensorboard<2.1.0,>=2.0.0->tensorflow-gpu==2.0.0) (1.7.0)\n",
      "Requirement already satisfied: idna<3,>=2.5 in d:\\deep_learning_note\\venv\\lib\\site-packages (from requests<3,>=2.21.0->tensorboard<2.1.0,>=2.0.0->tensorflow-gpu==2.0.0) (2.10)\n",
      "Requirement already satisfied: chardet<4,>=3.0.2 in d:\\deep_learning_note\\venv\\lib\\site-packages (from requests<3,>=2.21.0->tensorboard<2.1.0,>=2.0.0->tensorflow-gpu==2.0.0) (3.0.4)\n",
      "Requirement already satisfied: urllib3!=1.25.0,!=1.25.1,<1.26,>=1.21.1 in d:\\deep_learning_note\\venv\\lib\\site-packages (from requests<3,>=2.21.0->tensorboard<2.1.0,>=2.0.0->tensorflow-gpu==2.0.0) (1.25.10)\n",
      "Requirement already satisfied: certifi>=2017.4.17 in d:\\deep_learning_note\\venv\\lib\\site-packages (from requests<3,>=2.21.0->tensorboard<2.1.0,>=2.0.0->tensorflow-gpu==2.0.0) (2020.6.20)\n",
      "Requirement already satisfied: requests-oauthlib>=0.7.0 in d:\\deep_learning_note\\venv\\lib\\site-packages (from google-auth-oauthlib<0.5,>=0.4.1->tensorboard<2.1.0,>=2.0.0->tensorflow-gpu==2.0.0) (1.3.0)\n",
      "Requirement already satisfied: pyasn1<0.5.0,>=0.4.6 in d:\\deep_learning_note\\venv\\lib\\site-packages (from pyasn1-modules>=0.2.1->google-auth<2,>=1.6.3->tensorboard<2.1.0,>=2.0.0->tensorflow-gpu==2.0.0) (0.4.8)\n",
      "Requirement already satisfied: zipp>=0.5 in d:\\deep_learning_note\\venv\\lib\\site-packages (from importlib-metadata; python_version < \"3.8\"->markdown>=2.6.8->tensorboard<2.1.0,>=2.0.0->tensorflow-gpu==2.0.0) (3.1.0)\n",
      "Requirement already satisfied: oauthlib>=3.0.0 in d:\\deep_learning_note\\venv\\lib\\site-packages (from requests-oauthlib>=0.7.0->google-auth-oauthlib<0.5,>=0.4.1->tensorboard<2.1.0,>=2.0.0->tensorflow-gpu==2.0.0) (3.1.0)\n"
     ]
    }
   ],
   "source": [
    "!pip install tensorflow-gpu==2.0.0"
   ]
  },
  {
   "cell_type": "code",
   "execution_count": 2,
   "metadata": {},
   "outputs": [],
   "source": [
    "import tensorflow as tf"
   ]
  },
  {
   "cell_type": "code",
   "execution_count": 3,
   "metadata": {},
   "outputs": [
    {
     "data": {
      "text/plain": [
       "'2.0.0'"
      ]
     },
     "execution_count": 3,
     "metadata": {},
     "output_type": "execute_result"
    }
   ],
   "source": [
    "tf.__version__"
   ]
  },
  {
   "cell_type": "code",
   "execution_count": 4,
   "metadata": {},
   "outputs": [],
   "source": [
    "# 這理介紹一下   tf.linalg.band_part()  使用方法。\n",
    "\n",
    "# tf.linalg.band_part() 主要功能以對角線為中心，取它的副對角線部分，其他部分用0填充，甚麼意思呢?\n",
    "# 簡單話來說，就是把一個矩陣右上三角變 0 或左下三角變 0 "
   ]
  },
  {
   "cell_type": "code",
   "execution_count": 5,
   "metadata": {},
   "outputs": [
    {
     "data": {
      "text/plain": [
       "'tf.linalg.band_part  \\n  Args:\\n    input: 輸入的陣列\\n    num_lower: 下三角矩陣保留的副對角線數量，從主對角線開始計算，相當於下三角的帶寬。取值爲負數時，則全部保留，矩陣不變。\\n    num_upper: 上三角矩陣保留的副對角線數量，從主對角線開始計算，相當於上三角的帶寬。取值爲負數時，則全部保留，矩陣不變。\\n    name=None: 不重要\\n\\n  Returns:\\n    matrix\\n  '"
      ]
     },
     "execution_count": 5,
     "metadata": {},
     "output_type": "execute_result"
    }
   ],
   "source": [
    "# 先看一下 API\n",
    "\n",
    "\"\"\"tf.linalg.band_part  \n",
    "  Args:\n",
    "    input: 輸入的陣列\n",
    "    num_lower: 下三角矩陣保留的副對角線數量，從主對角線開始計算，相當於下三角的帶寬。取值爲負數時，則全部保留，矩陣不變。\n",
    "    num_upper: 上三角矩陣保留的副對角線數量，從主對角線開始計算，相當於上三角的帶寬。取值爲負數時，則全部保留，矩陣不變。\n",
    "    name=None: 不重要\n",
    "\n",
    "  Returns:\n",
    "    matrix\n",
    "\"\"\""
   ]
  },
  {
   "cell_type": "code",
   "execution_count": 11,
   "metadata": {},
   "outputs": [
    {
     "name": "stdout",
     "output_type": "stream",
     "text": [
      "matrix_a =  tf.Tensor(\n",
      "[[1 1 1 1]\n",
      " [1 1 1 1]\n",
      " [1 1 1 1]\n",
      " [1 1 1 1]], shape=(4, 4), dtype=int32)\n",
      "matrix_b =  tf.Tensor(\n",
      "[[1 0 0 0]\n",
      " [0 1 0 0]\n",
      " [0 0 1 0]\n",
      " [0 0 0 1]], shape=(4, 4), dtype=int32)\n",
      "matrix_c =  tf.Tensor(\n",
      "[[1 0 0 0]\n",
      " [1 1 0 0]\n",
      " [0 1 1 0]\n",
      " [0 0 1 1]], shape=(4, 4), dtype=int32)\n",
      "matrix_d =  tf.Tensor(\n",
      "[[1 0 0 0]\n",
      " [1 1 0 0]\n",
      " [1 1 1 0]\n",
      " [0 1 1 1]], shape=(4, 4), dtype=int32)\n",
      "matrix_e =  tf.Tensor(\n",
      "[[1 0 0 0]\n",
      " [1 1 0 0]\n",
      " [1 1 1 0]\n",
      " [1 1 1 1]], shape=(4, 4), dtype=int32)\n"
     ]
    }
   ],
   "source": [
    "# 或許看了 API 之後還是不懂，那直接看實作:\n",
    "\n",
    "matrix_a = tf.ones([4, 4], tf.int32)\n",
    "print(\"matrix_a = \", matrix_a)\n",
    "\n",
    "matrix_b = tf.linalg.band_part(matrix_a, 0, 0)\n",
    "print(\"matrix_b = \", matrix_b)\n",
    "\n",
    "matrix_c = tf.linalg.band_part(matrix_a, 1, 0)\n",
    "print(\"matrix_c = \", matrix_c)\n",
    "\n",
    "matrix_d = tf.linalg.band_part(matrix_a, 2, 0)\n",
    "print(\"matrix_d = \", matrix_d)\n",
    "\n",
    "matrix_e = tf.linalg.band_part(matrix_a, 3, 0)\n",
    "print(\"matrix_e = \", matrix_e)"
   ]
  },
  {
   "cell_type": "code",
   "execution_count": 12,
   "metadata": {},
   "outputs": [
    {
     "name": "stdout",
     "output_type": "stream",
     "text": [
      "matrix_f =  tf.Tensor(\n",
      "[[1 0 0 0]\n",
      " [1 1 0 0]\n",
      " [1 1 1 0]\n",
      " [1 1 1 1]], shape=(4, 4), dtype=int32)\n"
     ]
    }
   ],
   "source": [
    "# 這樣一看是不是馬上明朗很多了?接下來試試看 num_lower 參數調 -1\n",
    "\n",
    "matrix_f = tf.linalg.band_part(matrix_a, -1, 0)\n",
    "print(\"matrix_f = \", matrix_f)"
   ]
  },
  {
   "cell_type": "code",
   "execution_count": 13,
   "metadata": {},
   "outputs": [
    {
     "name": "stdout",
     "output_type": "stream",
     "text": [
      "matrix_g =  tf.Tensor(\n",
      "[[1 1 1 1]\n",
      " [0 1 1 1]\n",
      " [0 0 1 1]\n",
      " [0 0 0 1]], shape=(4, 4), dtype=int32)\n"
     ]
    }
   ],
   "source": [
    "# 可以看到，我們把 num_lower 調成 -1 之後就等於下方三角全部保留，如果想保留上方三角呢?\n",
    "\n",
    "matrix_g = tf.linalg.band_part(matrix_a, 0, -1)\n",
    "print(\"matrix_g = \", matrix_g)"
   ]
  }
 ],
 "metadata": {
  "kernelspec": {
   "display_name": "Python 3",
   "language": "python",
   "name": "python3"
  },
  "language_info": {
   "codemirror_mode": {
    "name": "ipython",
    "version": 3
   },
   "file_extension": ".py",
   "mimetype": "text/x-python",
   "name": "python",
   "nbconvert_exporter": "python",
   "pygments_lexer": "ipython3",
   "version": "3.7.7"
  }
 },
 "nbformat": 4,
 "nbformat_minor": 4
}
