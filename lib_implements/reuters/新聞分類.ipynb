{
 "cells": [
  {
   "cell_type": "code",
   "execution_count": 1,
   "metadata": {},
   "outputs": [],
   "source": [
    "# 新聞分類實作\n",
    "# 使用路透社資料，成功訓練出可以把新聞分為 0~45 這 46 個類別的 model 就是本次實作目標。"
   ]
  },
  {
   "cell_type": "code",
   "execution_count": 2,
   "metadata": {},
   "outputs": [],
   "source": [
    "# 一樣，從載入資料這一步開始\n",
    "from keras.datasets import reuters\n",
    "\n",
    "# 限制只取出句中字詞在字典集 0~9999 中的句子\n",
    "(train_data, train_labels), (test_data, test_labels) = reuters.load_data(num_words=10000) \n",
    "\n",
    "# 這邊先註明一下 : labels 的分類為 0 ~ 45，共 46 類新聞。"
   ]
  },
  {
   "cell_type": "code",
   "execution_count": 3,
   "metadata": {},
   "outputs": [
    {
     "name": "stdout",
     "output_type": "stream",
     "text": [
      "train_data 長度:  8982\n",
      "test_data 長度:  2246\n",
      "第一筆資料:  [1, 2, 2, 8, 43, 10, 447, 5, 25, 207, 270, 5, 3095, 111, 16, 369, 186, 90, 67, 7, 89, 5, 19, 102, 6, 19, 124, 15, 90, 67, 84, 22, 482, 26, 7, 48, 4, 49, 8, 864, 39, 209, 154, 6, 151, 6, 83, 11, 15, 22, 155, 11, 15, 7, 48, 9, 4579, 1005, 504, 6, 258, 6, 272, 11, 15, 22, 134, 44, 11, 15, 16, 8, 197, 1245, 90, 67, 52, 29, 209, 30, 32, 132, 6, 109, 15, 17, 12]\n"
     ]
    }
   ],
   "source": [
    "# 先來看看資料吧\n",
    "\n",
    "print(\"train_data 長度: \", len(train_data))\n",
    "print(\"test_data 長度: \", len(test_data))\n",
    "\n",
    "print(\"第一筆資料: \", train_data[0])"
   ]
  },
  {
   "cell_type": "code",
   "execution_count": 4,
   "metadata": {},
   "outputs": [
    {
     "name": "stdout",
     "output_type": "stream",
     "text": [
      "10996 mdbl\n",
      "16260 fawc\n",
      "12089 degussa\n",
      "8803 woods\n",
      "13796 hanging\n",
      "20672 localized\n",
      "20673 sation\n",
      "20675 chanthaburi\n",
      "10997 refunding\n",
      "8804 hermann\n",
      "20676 passsengers\n"
     ]
    }
   ],
   "source": [
    "# 我們嘗試看看把 encoder 過的資料 decode 一下，看看原文。\n",
    "\n",
    "word_index = reuters.get_word_index()\n",
    "\n",
    "# 跟 IMDB 一樣，拿到的 word_index 要先反轉一下\n",
    "\n",
    "reversed_word_index = dict([(val, key) for (key, val) in word_index.items()])\n",
    "\n",
    "# for i in range(10):\n",
    "#     print(reversed_word_index.items()[i])\n",
    "\n",
    "for index, (k, v) in enumerate(reversed_word_index.items()):\n",
    "    print(k, v)\n",
    "    if index == 10:  # 印 10 筆來看看就好\n",
    "        break"
   ]
  },
  {
   "cell_type": "code",
   "execution_count": 5,
   "metadata": {},
   "outputs": [
    {
     "name": "stdout",
     "output_type": "stream",
     "text": [
      "解碼後的資料:     said as a result of its december acquisition of space co it expects earnings per share in 1987 of 1 15 to 1 30 dlrs per share up from 70 cts in 1986 the company said pretax net should rise to nine to 10 mln dlrs from six mln dlrs in 1986 and rental operation revenues to 19 to 22 mln dlrs from 12 5 mln dlrs it said cash flow per share this year should be 2 50 to three dlrs reuter 3\n"
     ]
    }
   ],
   "source": [
    "tar = train_data[0]\n",
    "decoded_sentence = ' '.join([reversed_word_index.get(i-3, '') for i in tar])\n",
    "print(\"解碼後的資料: \", decoded_sentence)"
   ]
  },
  {
   "cell_type": "code",
   "execution_count": 6,
   "metadata": {},
   "outputs": [
    {
     "data": {
      "text/plain": [
       "array([0., 1., 1., ..., 0., 0., 0.])"
      ]
     },
     "execution_count": 6,
     "metadata": {},
     "output_type": "execute_result"
    }
   ],
   "source": [
    "# 好了，看完資料之後，我們接下來要做的就是把輸入資料向量化處理，這在上一節 IMDB 中已經提到過了，這邊不再贅述\n",
    "\n",
    "import numpy as np\n",
    "\n",
    "# seq 向量化處理\n",
    "def vectorize_seq(seqs, dimension=10000):\n",
    "    result = np.zeros((len(seqs), dimension))  # 建立一個空的張量，用來放置所有資料\n",
    "    for index, seq in enumerate(seqs):\n",
    "        result[index, seq] = 1\n",
    "    return result\n",
    "\n",
    "x_train = vectorize_seq(train_data)  # 訓練資料像量化\n",
    "x_test = vectorize_seq(test_data)  # 測試資料像量化\n",
    "\n",
    "x_train[0]"
   ]
  },
  {
   "cell_type": "code",
   "execution_count": 13,
   "metadata": {},
   "outputs": [
    {
     "name": "stdout",
     "output_type": "stream",
     "text": [
      "手刻 one hot: \n",
      " [[0. 0. 0. ... 0. 0. 0.]\n",
      " [0. 0. 0. ... 0. 0. 0.]\n",
      " [0. 0. 0. ... 0. 0. 0.]\n",
      " ...\n",
      " [0. 0. 0. ... 0. 0. 0.]\n",
      " [0. 0. 0. ... 0. 0. 0.]\n",
      " [0. 0. 0. ... 0. 0. 0.]]\n"
     ]
    }
   ],
   "source": [
    "# 處理標籤資料\n",
    "# 標籤資料是 0~45 的數字，我們要做的就是以 one-hot-encoding 的方式去轉化這些資料\n",
    "# 以下提供一個手刻 one_hot func 以及一個 keras 官方提供的 one_hot func\n",
    "\n",
    "def to_one_hot(labels, dimension=46):\n",
    "    result = np.zeros((len(labels), dimension))\n",
    "    \n",
    "    for index, label in enumerate(labels):\n",
    "        result[index, label] = 1.\n",
    "        return result\n",
    "    \n",
    "one_hot_train_labels = to_one_hot(train_labels)\n",
    "one_hot_test_labels = to_one_hot(test_labels)\n",
    "\n",
    "print(\"手刻 one hot:\\n\", one_hot_test_labels)"
   ]
  },
  {
   "cell_type": "code",
   "execution_count": 15,
   "metadata": {},
   "outputs": [
    {
     "name": "stdout",
     "output_type": "stream",
     "text": [
      "keras 內建 one hot:\n",
      " [[0. 0. 0. ... 0. 0. 0.]\n",
      " [0. 0. 0. ... 0. 0. 0.]\n",
      " [0. 1. 0. ... 0. 0. 0.]\n",
      " ...\n",
      " [0. 0. 0. ... 0. 0. 0.]\n",
      " [0. 0. 0. ... 0. 0. 0.]\n",
      " [0. 0. 0. ... 0. 0. 0.]]\n"
     ]
    }
   ],
   "source": [
    "from keras.utils.np_utils import to_categorical\n",
    "\n",
    "one_hot_train_labels = to_categorical(train_labels)\n",
    "one_hot_test_labels = to_categorical(test_labels)\n",
    "\n",
    "print(\"keras 內建 one hot:\\n\", one_hot_test_labels)"
   ]
  },
  {
   "cell_type": "code",
   "execution_count": 18,
   "metadata": {},
   "outputs": [],
   "source": [
    "# 建構神經網路\n",
    "from keras import models\n",
    "from keras import layers\n",
    "\n",
    "model = models.Sequential()\n",
    "model.add(layers.Dense(64, activation='relu', input_shape=(10000, ))) # 輸入為一個 Dimension，輸出層 64 神經元。\n",
    "model.add(layers.Dense(64, activation='relu')) # 非線性轉換。\n",
    "model.add(layers.Dense(46, activation='softmax')) # 輸出層使用 softmax 非線性層。取加權，46 維向量輸出。"
   ]
  },
  {
   "cell_type": "code",
   "execution_count": 19,
   "metadata": {},
   "outputs": [],
   "source": [
    "# 接下來就是編譯了，這邊使用 categorical_crossentropy 當作損失函數，他可以測出兩個機率分布之間的差距。\n",
    "# 換句話說就是神經網路輸出機率分布與 label 之間真實分布差距，透過縮小兩者差距來訓練 network。\n",
    "\n",
    "model.compile(optimizer='rmsprop', loss='categorical_crossentropy', metrics=['accuracy'])"
   ]
  },
  {
   "cell_type": "code",
   "execution_count": 20,
   "metadata": {},
   "outputs": [],
   "source": [
    "# 切割驗證 (val) 資料\n",
    "\n",
    "x_val = x_train[:1000] # 開頭 1000 筆\n",
    "x_train = x_train[1000:] # x_train 更新為 1000 筆往後的資料\n",
    "\n",
    "y_val = one_hot_train_labels[:1000]\n",
    "y_train = one_hot_train_labels[1000:]"
   ]
  },
  {
   "cell_type": "code",
   "execution_count": 21,
   "metadata": {},
   "outputs": [
    {
     "name": "stdout",
     "output_type": "stream",
     "text": [
      "Epoch 1/20\n",
      "16/16 [==============================] - 1s 58ms/step - loss: 2.5701 - accuracy: 0.5123 - val_loss: 1.7210 - val_accuracy: 0.6500\n",
      "Epoch 2/20\n",
      "16/16 [==============================] - 1s 36ms/step - loss: 1.3897 - accuracy: 0.7238 - val_loss: 1.2883 - val_accuracy: 0.7090\n",
      "Epoch 3/20\n",
      "16/16 [==============================] - 1s 37ms/step - loss: 1.0102 - accuracy: 0.7930 - val_loss: 1.1077 - val_accuracy: 0.7570\n",
      "Epoch 4/20\n",
      "16/16 [==============================] - 1s 36ms/step - loss: 0.7898 - accuracy: 0.8344 - val_loss: 1.0242 - val_accuracy: 0.7900\n",
      "Epoch 5/20\n",
      "16/16 [==============================] - 1s 37ms/step - loss: 0.6295 - accuracy: 0.8705 - val_loss: 0.9603 - val_accuracy: 0.8060\n",
      "Epoch 6/20\n",
      "16/16 [==============================] - 1s 37ms/step - loss: 0.5016 - accuracy: 0.8970 - val_loss: 0.9286 - val_accuracy: 0.8110\n",
      "Epoch 7/20\n",
      "16/16 [==============================] - 1s 37ms/step - loss: 0.4072 - accuracy: 0.9188 - val_loss: 0.9017 - val_accuracy: 0.8140\n",
      "Epoch 8/20\n",
      "16/16 [==============================] - 1s 37ms/step - loss: 0.3315 - accuracy: 0.9315 - val_loss: 0.8931 - val_accuracy: 0.8100\n",
      "Epoch 9/20\n",
      "16/16 [==============================] - 1s 37ms/step - loss: 0.2760 - accuracy: 0.9406 - val_loss: 0.8683 - val_accuracy: 0.8240\n",
      "Epoch 10/20\n",
      "16/16 [==============================] - 1s 36ms/step - loss: 0.2293 - accuracy: 0.9465 - val_loss: 0.8947 - val_accuracy: 0.8190\n",
      "Epoch 11/20\n",
      "16/16 [==============================] - 1s 37ms/step - loss: 0.2019 - accuracy: 0.9494 - val_loss: 0.9190 - val_accuracy: 0.8110\n",
      "Epoch 12/20\n",
      "16/16 [==============================] - 1s 37ms/step - loss: 0.1743 - accuracy: 0.9534 - val_loss: 0.9290 - val_accuracy: 0.8150\n",
      "Epoch 13/20\n",
      "16/16 [==============================] - 1s 36ms/step - loss: 0.1591 - accuracy: 0.9550 - val_loss: 0.9426 - val_accuracy: 0.8140\n",
      "Epoch 14/20\n",
      "16/16 [==============================] - 1s 37ms/step - loss: 0.1499 - accuracy: 0.9529 - val_loss: 0.9957 - val_accuracy: 0.8020\n",
      "Epoch 15/20\n",
      "16/16 [==============================] - 1s 36ms/step - loss: 0.1371 - accuracy: 0.9575 - val_loss: 1.0014 - val_accuracy: 0.8080\n",
      "Epoch 16/20\n",
      "16/16 [==============================] - 1s 36ms/step - loss: 0.1246 - accuracy: 0.9584 - val_loss: 1.0034 - val_accuracy: 0.8040\n",
      "Epoch 17/20\n",
      "16/16 [==============================] - 1s 35ms/step - loss: 0.1257 - accuracy: 0.9579 - val_loss: 1.0613 - val_accuracy: 0.7950\n",
      "Epoch 18/20\n",
      "16/16 [==============================] - 1s 35ms/step - loss: 0.1195 - accuracy: 0.9570 - val_loss: 1.0622 - val_accuracy: 0.7930\n",
      "Epoch 19/20\n",
      "16/16 [==============================] - 1s 37ms/step - loss: 0.1177 - accuracy: 0.9565 - val_loss: 1.0589 - val_accuracy: 0.8060\n",
      "Epoch 20/20\n",
      "16/16 [==============================] - 1s 33ms/step - loss: 0.1118 - accuracy: 0.9578 - val_loss: 1.1098 - val_accuracy: 0.8060\n"
     ]
    }
   ],
   "source": [
    "# 開始訓練\n",
    "\n",
    "history = model.fit(x_train,\n",
    "                    y_train,\n",
    "                    epochs=20,\n",
    "                    batch_size=512,\n",
    "                    validation_data=(x_val, y_val))"
   ]
  },
  {
   "cell_type": "code",
   "execution_count": 22,
   "metadata": {},
   "outputs": [
    {
     "name": "stdout",
     "output_type": "stream",
     "text": [
      "dict_keys(['loss', 'accuracy', 'val_loss', 'val_accuracy'])\n"
     ]
    }
   ],
   "source": [
    "# 訓練完成，一樣要畫圖來看看訓練的 history\n",
    "\n",
    "\n",
    "\n",
    "print(history.history.keys())"
   ]
  },
  {
   "cell_type": "code",
   "execution_count": 26,
   "metadata": {},
   "outputs": [
    {
     "data": {
      "image/png": "[encoded data removed]",
      "text/plain": [
       "<Figure size 432x288 with 1 Axes>"
      ]
     },
     "metadata": {
      "needs_background": "light"
     },
     "output_type": "display_data"
    }
   ],
   "source": [
    "import matplotlib.pyplot as plt\n",
    "\n",
    "loss = history.history['loss']\n",
    "val_loss = history.history['val_loss']\n",
    "\n",
    "epochs = range(1, len(loss) + 1)  # 1~20\n",
    "\n",
    "plt.plot(epochs, loss, 'bx', label=\"train loss\")\n",
    "plt.plot(epochs, val_loss, 'o', label=\"val_loss\")\n",
    "plt.title(\"train and val loss\")\n",
    "plt.xlabel(\"epochs\")\n",
    "plt.ylabel(\"loss\")\n",
    "plt.legend()\n",
    "plt.show()\n",
    "\n",
    "# 以下是 loss 的表現，看起來再 5 輪之後 val loss 實際表現就穩定了"
   ]
  },
  {
   "cell_type": "code",
   "execution_count": 27,
   "metadata": {},
   "outputs": [
    {
     "data": {
      "image/png": "[encoded data removed]",
      "text/plain": [
       "<Figure size 432x288 with 1 Axes>"
      ]
     },
     "metadata": {
      "needs_background": "light"
     },
     "output_type": "display_data"
    }
   ],
   "source": [
    "# 看一下 acc 表現\n",
    "\n",
    "acc = history.history[\"accuracy\"]\n",
    "val_acc = history.history[\"val_accuracy\"]\n",
    "\n",
    "plt.clf()\n",
    "\n",
    "plt.plot(epochs, acc, \"bx\", label=\"train acc\")\n",
    "plt.plot(epochs, val_acc, \"bo\", label=\"val acc\")\n",
    "plt.title(\"train val acc\")\n",
    "plt.xlabel(\"epochs\")\n",
    "plt.ylabel(\"acc\")\n",
    "plt.legend()\n",
    "plt.show()\n",
    "\n",
    "# 從下圖可以看出，基本上 val acc 也一樣，5 epochs 往後就幾乎穩定了"
   ]
  },
  {
   "cell_type": "code",
   "execution_count": 29,
   "metadata": {},
   "outputs": [
    {
     "name": "stdout",
     "output_type": "stream",
     "text": [
      "[[1.05969968e-06 7.68324298e-06 1.48998382e-07 ... 5.34634772e-08\n",
      "  3.55234286e-09 6.88081343e-08]\n",
      " [3.45220417e-03 3.14730220e-03 6.80857539e-08 ... 2.78334400e-09\n",
      "  9.04383290e-10 9.38232547e-11]\n",
      " [2.62006633e-02 8.76786828e-01 2.96169765e-05 ... 3.76522894e-06\n",
      "  4.95315987e-07 7.55239307e-05]\n",
      " ...\n",
      " [1.74060588e-07 1.08657077e-05 3.00706006e-06 ... 2.64407731e-07\n",
      "  1.18669924e-07 2.31628383e-06]\n",
      " [4.85482952e-03 1.22045875e-01 9.07527574e-04 ... 1.67465652e-04\n",
      "  6.47490788e-06 9.46410280e-03]\n",
      " [1.37268245e-04 4.41270441e-01 4.68163460e-04 ... 2.31223694e-05\n",
      "  2.03153803e-07 1.43346711e-04]]\n"
     ]
    }
   ],
   "source": [
    "# 這個模型如果想要從 epoch 上調整的話就是把 epochs 設定在 7~9 之間，防止過度適配\n",
    "# 最後對 test 資料實際使用看看\n",
    "\n",
    "predictions = model.predict(x_test)\n",
    "    \n",
    "print(predictions)"
   ]
  },
  {
   "cell_type": "code",
   "execution_count": 35,
   "metadata": {},
   "outputs": [
    {
     "name": "stdout",
     "output_type": "stream",
     "text": [
      "預測為:  3\n",
      "實際為:  3\n"
     ]
    }
   ],
   "source": [
    "# 看看第一筆資料是哪一類\n",
    "\n",
    "print(\"預測為: \", np.argmax(predictions[0]))\n",
    "print(\"實際為: \", test_labels[0])"
   ]
  },
  {
   "cell_type": "code",
   "execution_count": 36,
   "metadata": {},
   "outputs": [],
   "source": [
    "# 如果不使用 one_hot_encoding 作為 labels 的編碼也可以\n",
    "# 還有一種方法是直接把分類資料(整數)當作實際值放入\n",
    "\n",
    "y_train = np.array(train_labels)\n",
    "y_test = np.array(test_labels)\n"
   ]
  },
  {
   "cell_type": "code",
   "execution_count": 37,
   "metadata": {},
   "outputs": [],
   "source": [
    "# 如果 labels 變成實際整數，例如 24 或 46 之類的，我們要換損失函數。使用 'sparse_categorical_crossentropy'\n",
    "# 與先前針對 one_hot_encoding 輸出的損失函數 'categorical_crossentropy' 不同，比對如下 : \n",
    "\n",
    "# categorical_crossentropy :\n",
    "\n",
    "# [[1, 0, 0]\n",
    "# [0, 1, 0]\n",
    "# [0, 0, 1]]\n",
    "\n",
    "# sparse_categorical_crossentropy\n",
    "\n",
    "# 0\n",
    "# 1\n",
    "# 2"
   ]
  }
 ],
 "metadata": {
  "kernelspec": {
   "display_name": "Python 3",
   "language": "python",
   "name": "python3"
  },
  "language_info": {
   "codemirror_mode": {
    "name": "ipython",
    "version": 3
   },
   "file_extension": ".py",
   "mimetype": "text/x-python",
   "name": "python",
   "nbconvert_exporter": "python",
   "pygments_lexer": "ipython3",
   "version": "3.7.8"
  }
 },
 "nbformat": 4,
 "nbformat_minor": 4
}
