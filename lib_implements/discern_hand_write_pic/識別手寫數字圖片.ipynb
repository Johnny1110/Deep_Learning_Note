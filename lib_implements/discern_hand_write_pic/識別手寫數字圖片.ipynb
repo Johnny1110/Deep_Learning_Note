{
 "cells": [
  {
   "cell_type": "code",
   "execution_count": 1,
   "metadata": {},
   "outputs": [],
   "source": [
    "from keras.datasets import mnist"
   ]
  },
  {
   "cell_type": "code",
   "execution_count": 2,
   "metadata": {},
   "outputs": [],
   "source": [
    "# 下載手寫數字資料集 mnist\n",
    "(train_imgs, train_labels), (test_imgs, test_labels) = mnist.load_data()"
   ]
  },
  {
   "cell_type": "code",
   "execution_count": 3,
   "metadata": {},
   "outputs": [
    {
     "name": "stdout",
     "output_type": "stream",
     "text": [
      "資料集的張量維度:  3\n"
     ]
    }
   ],
   "source": [
    "print(\"資料集的張量維度: \", train_imgs.ndim)"
   ]
  },
  {
   "cell_type": "code",
   "execution_count": 4,
   "metadata": {},
   "outputs": [
    {
     "data": {
      "text/plain": [
       "<matplotlib.image.AxesImage at 0x23fb79944c8>"
      ]
     },
     "execution_count": 4,
     "metadata": {},
     "output_type": "execute_result"
    },
    {
     "data": {
      "image/png": "[encoded data removed]",
      "text/plain": [
       "<Figure size 432x288 with 1 Axes>"
      ]
     },
     "metadata": {
      "needs_background": "light"
     },
     "output_type": "display_data"
    }
   ],
   "source": [
    "# 這邊取出第4比資料小玩一下\n",
    "\n",
    "\n",
    "digit = train_imgs[4]\n",
    "\n",
    "# [y軸全出取， x軸取 正7 ~ 負7(剛好是28的中間區域)]\n",
    "digit = digit[:, 7:-7]\n",
    "\n",
    "import matplotlib.pyplot as plt\n",
    "\n",
    "plt.imshow(digit, cmap=plt.cm.binary)"
   ]
  },
  {
   "cell_type": "code",
   "execution_count": 5,
   "metadata": {},
   "outputs": [
    {
     "name": "stdout",
     "output_type": "stream",
     "text": [
      "train_imgs 原本資料 shape:  (60000, 28, 28)\n",
      "train_imgs 原本資料 shape:  (60000, 784)\n",
      "------------------------------------------------------------\n",
      "train_imgs 原本資料 shape:  (10000, 28, 28)\n",
      "train_imgs 原本資料 shape:  (10000, 784)\n"
     ]
    }
   ],
   "source": [
    "# 前置資料整理\n",
    "\n",
    "print(\"train_imgs 原本資料 shape: \", train_imgs.shape)\n",
    "train_imgs = train_imgs.reshape(60000, 28*28)  # 將原本一張圖2維張量 (28, 28) 資料 reshape 成我們想要的(28*28)(60000指6萬張圖)\n",
    "train_imgs = train_imgs.astype('float32') / 255  # 原本資料室 unit8 0~255 之間的灰階，除以 255 把原本 255 變 1 其他全變 0 \n",
    "print(\"train_imgs 整理後資料 shape: \", train_imgs.shape)\n",
    "\n",
    "print('---'*20)\n",
    "\n",
    "print(\"test_imgs 原本資料 shape: \", test_imgs.shape)\n",
    "test_imgs = test_imgs.reshape(10000, 28*28)  # 同理\n",
    "test_imgs = test_imgs.astype('float32') / 255\n",
    "print(\"test_imgs 整理後資料 shape: \", test_imgs.shape)\n",
    "\n",
    "from keras.utils import to_categorical\n",
    "# 對標籤分類，原本是一個純量，分類後彙變成一個 10 維向量 eg. [0. 0. 0. ... 1. 0. 0.]\n",
    "train_labels = to_categorical(train_labels)\n",
    "test_labels = to_categorical(test_labels)"
   ]
  },
  {
   "cell_type": "code",
   "execution_count": 6,
   "metadata": {},
   "outputs": [],
   "source": [
    "# 建立神經網路\n",
    "\n",
    "from keras import models, layers\n",
    "\n",
    "network = models.Sequential()\n",
    "# relu 激勵函數是 max(x, 0) 輸出的 512 個值只放行大於 0 的輸出。\n",
    "network.add(layers.Dense(512, activation='relu', input_shape=(28*28,))) \n",
    "# softmax 可以理解為加權數，這邊代表 1 ~ 10 的機率分布，值在 0~1 之間\n",
    "network.add(layers.Dense(10, activation='softmax')) "
   ]
  },
  {
   "cell_type": "code",
   "execution_count": 7,
   "metadata": {},
   "outputs": [],
   "source": [
    "# 編譯神經網路\n",
    "\n",
    "# rmsprop優化器: 規範梯度下降的規則，categorical_crossentropy 是損失函數。\n",
    "network.compile(optimizer='rmsprop', loss='categorical_crossentropy', metrics=['accuracy'])"
   ]
  },
  {
   "cell_type": "code",
   "execution_count": 8,
   "metadata": {},
   "outputs": [
    {
     "name": "stdout",
     "output_type": "stream",
     "text": [
      "Epoch 1/5\n",
      "469/469 [==============================] - 5s 10ms/step - loss: 0.2549 - accuracy: 0.9262\n",
      "Epoch 2/5\n",
      "469/469 [==============================] - 5s 10ms/step - loss: 0.1038 - accuracy: 0.9698\n",
      "Epoch 3/5\n",
      "469/469 [==============================] - 5s 10ms/step - loss: 0.0678 - accuracy: 0.9797\n",
      "Epoch 4/5\n",
      "469/469 [==============================] - 5s 10ms/step - loss: 0.0502 - accuracy: 0.9846\n",
      "Epoch 5/5\n",
      "469/469 [==============================] - 5s 10ms/step - loss: 0.0375 - accuracy: 0.9891\n"
     ]
    },
    {
     "data": {
      "text/plain": [
       "<tensorflow.python.keras.callbacks.History at 0x23fbe3e18c8>"
      ]
     },
     "execution_count": 8,
     "metadata": {},
     "output_type": "execute_result"
    }
   ],
   "source": [
    "# 訓練\n",
    "\n",
    "# epochs 跑 5 runs，一次訓練 128 組圖片\n",
    "network.fit(train_imgs, train_labels, epochs=5, batch_size=128)"
   ]
  },
  {
   "cell_type": "code",
   "execution_count": 9,
   "metadata": {},
   "outputs": [
    {
     "name": "stdout",
     "output_type": "stream",
     "text": [
      "[[0. 0. 0. ... 1. 0. 0.]\n",
      " [0. 0. 1. ... 0. 0. 0.]\n",
      " [0. 1. 0. ... 0. 0. 0.]\n",
      " ...\n",
      " [0. 0. 0. ... 0. 0. 0.]\n",
      " [0. 0. 0. ... 0. 0. 0.]\n",
      " [0. 0. 0. ... 0. 0. 0.]]\n"
     ]
    }
   ],
   "source": [
    "test_loss, test_acc = network.evaluate(test_imgs, test_labels)\n",
    "print('test_acc: ', test_acc)"
   ]
  },
  {
   "cell_type": "code",
   "execution_count": null,
   "metadata": {},
   "outputs": [],
   "source": []
  }
 ],
 "metadata": {
  "kernelspec": {
   "display_name": "Python 3",
   "language": "python",
   "name": "python3"
  },
  "language_info": {
   "codemirror_mode": {
    "name": "ipython",
    "version": 3
   },
   "file_extension": ".py",
   "mimetype": "text/x-python",
   "name": "python",
   "nbconvert_exporter": "python",
   "pygments_lexer": "ipython3",
   "version": "3.7.8"
  }
 },
 "nbformat": 4,
 "nbformat_minor": 4
}
